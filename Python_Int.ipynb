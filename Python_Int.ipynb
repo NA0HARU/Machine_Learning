{
 "cells": [
  {
   "cell_type": "markdown",
   "id": "8489f6f1",
   "metadata": {},
   "source": [
    "**Python Interview**"
   ]
  },
  {
   "cell_type": "code",
   "execution_count": 1,
   "id": "27ff65c6",
   "metadata": {},
   "outputs": [
    {
     "name": "stdout",
     "output_type": "stream",
     "text": [
      "22\n"
     ]
    }
   ],
   "source": [
    "var= 25\n",
    "var= 22\n",
    "gun=\"salı\"\n",
    "print(var)"
   ]
  },
  {
   "cell_type": "code",
   "execution_count": 2,
   "id": "b67098e9",
   "metadata": {},
   "outputs": [
    {
     "data": {
      "text/plain": [
       "list"
      ]
     },
     "execution_count": 2,
     "metadata": {},
     "output_type": "execute_result"
    }
   ],
   "source": [
    "#list\n",
    "\n",
    "var1=5\n",
    "var2=7\n",
    "var3=10\n",
    "\n",
    "list_int=[5,7,10]\n",
    "type(list_int)"
   ]
  },
  {
   "cell_type": "code",
   "execution_count": 3,
   "id": "ff680bb4",
   "metadata": {},
   "outputs": [
    {
     "data": {
      "text/plain": [
       "5"
      ]
     },
     "execution_count": 3,
     "metadata": {},
     "output_type": "execute_result"
    }
   ],
   "source": [
    "list_int[0]"
   ]
  },
  {
   "cell_type": "code",
   "execution_count": 4,
   "id": "843bac3c",
   "metadata": {},
   "outputs": [
    {
     "data": {
      "text/plain": [
       "10"
      ]
     },
     "execution_count": 4,
     "metadata": {},
     "output_type": "execute_result"
    }
   ],
   "source": [
    "list_int[-1]"
   ]
  },
  {
   "cell_type": "code",
   "execution_count": 5,
   "id": "7fbe059f",
   "metadata": {},
   "outputs": [
    {
     "data": {
      "text/plain": [
       "[5, 7, 10]"
      ]
     },
     "execution_count": 5,
     "metadata": {},
     "output_type": "execute_result"
    }
   ],
   "source": [
    "list_int[0:3]"
   ]
  },
  {
   "cell_type": "code",
   "execution_count": 11,
   "id": "ada03e3d",
   "metadata": {},
   "outputs": [
    {
     "name": "stdout",
     "output_type": "stream",
     "text": [
      "[5, 7, 10, 13]\n"
     ]
    }
   ],
   "source": [
    "list_int.append(13)\n",
    "print(list_int)"
   ]
  },
  {
   "cell_type": "code",
   "execution_count": 12,
   "id": "5d5dcf31",
   "metadata": {},
   "outputs": [
    {
     "name": "stdout",
     "output_type": "stream",
     "text": [
      "[5, 7, 10]\n"
     ]
    }
   ],
   "source": [
    "list_int.remove(13)\n",
    "print(list_int)"
   ]
  },
  {
   "cell_type": "code",
   "execution_count": 13,
   "id": "68433d37",
   "metadata": {},
   "outputs": [
    {
     "name": "stdout",
     "output_type": "stream",
     "text": [
      "[10, 7, 5]\n"
     ]
    }
   ],
   "source": [
    "list_int.reverse()\n",
    "print(list_int)"
   ]
  },
  {
   "cell_type": "code",
   "execution_count": 14,
   "id": "9e7d428c",
   "metadata": {},
   "outputs": [
    {
     "name": "stdout",
     "output_type": "stream",
     "text": [
      "[5, 7, 10]\n"
     ]
    }
   ],
   "source": [
    "list_int.sort()\n",
    "print(list_int)"
   ]
  },
  {
   "cell_type": "code",
   "execution_count": 17,
   "id": "692bbfa8",
   "metadata": {},
   "outputs": [
    {
     "name": "stdout",
     "output_type": "stream",
     "text": [
      "1\n",
      "2\n",
      "3\n",
      "4\n",
      "5\n",
      "6\n",
      "7\n",
      "8\n",
      "9\n",
      "10\n",
      "11\n",
      "12\n",
      "13\n",
      "14\n",
      "15\n",
      "16\n",
      "17\n",
      "18\n",
      "19\n",
      "20\n"
     ]
    }
   ],
   "source": [
    "for each in range (1,21):\n",
    "    print(each)\n"
   ]
  },
  {
   "cell_type": "code",
   "execution_count": 21,
   "id": "a9761536",
   "metadata": {},
   "outputs": [
    {
     "name": "stdout",
     "output_type": "stream",
     "text": [
      "5\n"
     ]
    }
   ],
   "source": [
    "minimum= 10\n",
    "for each in list_int:\n",
    "    if(each<minimum):\n",
    "        minimum=each\n",
    "    else:\n",
    "        continue\n",
    "print(minimum)"
   ]
  },
  {
   "cell_type": "code",
   "execution_count": 25,
   "id": "c0211641",
   "metadata": {},
   "outputs": [
    {
     "name": "stdout",
     "output_type": "stream",
     "text": [
      "0\n",
      "1\n",
      "2\n",
      "3\n",
      "4\n",
      "5\n",
      "6\n"
     ]
    }
   ],
   "source": [
    "i=0\n",
    "\n",
    "while(i<7):\n",
    "    print(i)\n",
    "    \n",
    "    i=i+1"
   ]
  },
  {
   "cell_type": "code",
   "execution_count": 27,
   "id": "7f563f51",
   "metadata": {},
   "outputs": [
    {
     "data": {
      "text/plain": [
       "50.24"
      ]
     },
     "execution_count": 27,
     "metadata": {},
     "output_type": "execute_result"
    }
   ],
   "source": [
    "def cember_cevre(r,pi=3.14):\n",
    "    output=2*pi*r\n",
    "    return output\n",
    "\n",
    "cember_cevre(8)"
   ]
  },
  {
   "cell_type": "code",
   "execution_count": 30,
   "id": "168fdf4e",
   "metadata": {},
   "outputs": [
    {
     "name": "stdout",
     "output_type": "stream",
     "text": [
      "9\n",
      "49\n"
     ]
    }
   ],
   "source": [
    "def hesapla(x):\n",
    "    output=x*x\n",
    "    return output\n",
    "sonuc= hesapla(3)\n",
    "print(sonuc)\n",
    "sonuc2= lambda x:x*x\n",
    "print(sonuc2(7))"
   ]
  },
  {
   "cell_type": "code",
   "execution_count": 31,
   "id": "c0c2b6f0",
   "metadata": {},
   "outputs": [
    {
     "name": "stdout",
     "output_type": "stream",
     "text": [
      "{'burakhan': 21, 'can': 23, 'emrecan': 22}\n"
     ]
    }
   ],
   "source": [
    "dictionary ={\"burakhan\":21,\"can\":23,\"emrecan\":22}\n",
    "print(dictionary)"
   ]
  },
  {
   "cell_type": "code",
   "execution_count": 32,
   "id": "c6d8fecc",
   "metadata": {},
   "outputs": [
    {
     "data": {
      "text/plain": [
       "dict"
      ]
     },
     "execution_count": 32,
     "metadata": {},
     "output_type": "execute_result"
    }
   ],
   "source": [
    "type(dictionary)"
   ]
  },
  {
   "cell_type": "code",
   "execution_count": 33,
   "id": "de83875b",
   "metadata": {},
   "outputs": [
    {
     "data": {
      "text/plain": [
       "dict_values([21, 23, 22])"
      ]
     },
     "execution_count": 33,
     "metadata": {},
     "output_type": "execute_result"
    }
   ],
   "source": [
    "dictionary.values()"
   ]
  },
  {
   "cell_type": "code",
   "execution_count": 34,
   "id": "6bc57c13",
   "metadata": {},
   "outputs": [
    {
     "name": "stdout",
     "output_type": "stream",
     "text": [
      "yesnt\n"
     ]
    }
   ],
   "source": [
    "keys=dictionary.keys()\n",
    "\n",
    "if\"burakhan\" in keys:\n",
    "    print(\"yesnt\")\n",
    "else:print(\"nosnt?\")"
   ]
  },
  {
   "cell_type": "code",
   "execution_count": null,
   "id": "147e9a19",
   "metadata": {},
   "outputs": [],
   "source": []
  },
  {
   "cell_type": "code",
   "execution_count": null,
   "id": "258930bc",
   "metadata": {},
   "outputs": [],
   "source": []
  },
  {
   "cell_type": "code",
   "execution_count": null,
   "id": "606f8e0c",
   "metadata": {},
   "outputs": [],
   "source": []
  }
 ],
 "metadata": {
  "kernelspec": {
   "display_name": "Python 3 (ipykernel)",
   "language": "python",
   "name": "python3"
  },
  "language_info": {
   "codemirror_mode": {
    "name": "ipython",
    "version": 3
   },
   "file_extension": ".py",
   "mimetype": "text/x-python",
   "name": "python",
   "nbconvert_exporter": "python",
   "pygments_lexer": "ipython3",
   "version": "3.9.13"
  }
 },
 "nbformat": 4,
 "nbformat_minor": 5
}
