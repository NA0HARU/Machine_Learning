{
 "cells": [
  {
   "cell_type": "code",
   "execution_count": 1,
   "id": "6eadb4b3",
   "metadata": {},
   "outputs": [],
   "source": [
    "import numpy as np"
   ]
  },
  {
   "cell_type": "code",
   "execution_count": 3,
   "id": "b550ce19",
   "metadata": {},
   "outputs": [
    {
     "name": "stdout",
     "output_type": "stream",
     "text": [
      "[1 2 3]\n"
     ]
    }
   ],
   "source": [
    "array =np.array([1,2,3])\n",
    "print(array)"
   ]
  },
  {
   "cell_type": "code",
   "execution_count": 6,
   "id": "9b4e0a69",
   "metadata": {},
   "outputs": [
    {
     "name": "stdout",
     "output_type": "stream",
     "text": [
      "(15,)\n"
     ]
    }
   ],
   "source": [
    "array2=np.array([1,2,3,4,5,6,7,8,9,10,11,12,13,14,15])\n",
    "print(array2.shape)"
   ]
  },
  {
   "cell_type": "code",
   "execution_count": 7,
   "id": "289fe20e",
   "metadata": {},
   "outputs": [
    {
     "name": "stdout",
     "output_type": "stream",
     "text": [
      "[[ 1  2  3  4  5]\n",
      " [ 6  7  8  9 10]\n",
      " [11 12 13 14 15]]\n"
     ]
    }
   ],
   "source": [
    "a=array2.reshape(3,5)\n",
    "print(a)"
   ]
  },
  {
   "cell_type": "code",
   "execution_count": 9,
   "id": "e9cd869f",
   "metadata": {},
   "outputs": [
    {
     "name": "stdout",
     "output_type": "stream",
     "text": [
      "Shape: (3, 5)\n"
     ]
    }
   ],
   "source": [
    "print(\"Shape:\",a.shape)"
   ]
  },
  {
   "cell_type": "code",
   "execution_count": 10,
   "id": "19a7f273",
   "metadata": {},
   "outputs": [
    {
     "name": "stdout",
     "output_type": "stream",
     "text": [
      "Dimansion 2\n"
     ]
    }
   ],
   "source": [
    "print(\"Dimansion\",a.ndim)"
   ]
  },
  {
   "cell_type": "code",
   "execution_count": 11,
   "id": "b0c8d3dc",
   "metadata": {},
   "outputs": [
    {
     "name": "stdout",
     "output_type": "stream",
     "text": [
      "Data Type: int32\n"
     ]
    }
   ],
   "source": [
    "print(\"Data Type:\",a.dtype.name)"
   ]
  },
  {
   "cell_type": "code",
   "execution_count": 12,
   "id": "2b988de6",
   "metadata": {},
   "outputs": [
    {
     "name": "stdout",
     "output_type": "stream",
     "text": [
      "size: 15\n"
     ]
    }
   ],
   "source": [
    "print(\"size:\",a.size)"
   ]
  },
  {
   "cell_type": "code",
   "execution_count": 13,
   "id": "ee1eb69c",
   "metadata": {},
   "outputs": [
    {
     "name": "stdout",
     "output_type": "stream",
     "text": [
      "type: <class 'numpy.ndarray'>\n"
     ]
    }
   ],
   "source": [
    "print(\"type:\",type(a))"
   ]
  },
  {
   "cell_type": "code",
   "execution_count": 15,
   "id": "09a7cb94",
   "metadata": {},
   "outputs": [],
   "source": [
    "array3= np.array([[1,2,3,4],[5,6,7,8],[9,10,11,12]])\n"
   ]
  },
  {
   "cell_type": "code",
   "execution_count": 16,
   "id": "6514d3c0",
   "metadata": {},
   "outputs": [
    {
     "name": "stdout",
     "output_type": "stream",
     "text": [
      "[[ 1  2  3  4]\n",
      " [ 5  6  7  8]\n",
      " [ 9 10 11 12]]\n"
     ]
    }
   ],
   "source": [
    "print(array3)"
   ]
  },
  {
   "cell_type": "code",
   "execution_count": 17,
   "id": "08e5223a",
   "metadata": {},
   "outputs": [
    {
     "data": {
      "text/plain": [
       "(3, 4)"
      ]
     },
     "execution_count": 17,
     "metadata": {},
     "output_type": "execute_result"
    }
   ],
   "source": [
    "array3.shape"
   ]
  },
  {
   "cell_type": "code",
   "execution_count": 18,
   "id": "df72a966",
   "metadata": {},
   "outputs": [],
   "source": [
    "zeros=np.zeros((3,4))"
   ]
  },
  {
   "cell_type": "code",
   "execution_count": 19,
   "id": "8d02fdf7",
   "metadata": {},
   "outputs": [
    {
     "name": "stdout",
     "output_type": "stream",
     "text": [
      "[[0. 0. 0. 0.]\n",
      " [0. 0. 0. 0.]\n",
      " [0. 0. 0. 0.]]\n"
     ]
    }
   ],
   "source": [
    "print(zeros)"
   ]
  },
  {
   "cell_type": "code",
   "execution_count": 20,
   "id": "a51a7b3f",
   "metadata": {},
   "outputs": [
    {
     "name": "stdout",
     "output_type": "stream",
     "text": [
      "[[11.  0.  0.  0.]\n",
      " [ 0.  0.  0.  0.]\n",
      " [ 0.  0.  0.  0.]]\n"
     ]
    }
   ],
   "source": [
    "zeros[0,0]=11\n",
    "print(zeros)"
   ]
  },
  {
   "cell_type": "code",
   "execution_count": 21,
   "id": "3cabf2c6",
   "metadata": {},
   "outputs": [
    {
     "name": "stdout",
     "output_type": "stream",
     "text": [
      "[[1. 1. 1. 1.]\n",
      " [1. 1. 1. 1.]\n",
      " [1. 1. 1. 1.]]\n"
     ]
    }
   ],
   "source": [
    "ones=np.ones((3,4))\n",
    "print(ones)"
   ]
  },
  {
   "cell_type": "code",
   "execution_count": 22,
   "id": "c42ff01b",
   "metadata": {},
   "outputs": [
    {
     "data": {
      "text/plain": [
       "array([[6.23042070e-307, 4.67296746e-307, 1.69121096e-306,\n",
       "        1.60221208e-306, 7.56587585e-307],\n",
       "       [1.37961302e-306, 1.05699242e-307, 8.01097889e-307,\n",
       "        1.78020169e-306, 7.56601165e-307],\n",
       "       [1.02359984e-306, 2.78149851e-307, 1.06811422e-306,\n",
       "        8.45590539e-307, 6.23054972e-307],\n",
       "       [9.34609790e-307, 1.78019354e-306, 1.69119330e-306,\n",
       "        1.24611470e-306, 2.56765117e-312]])"
      ]
     },
     "execution_count": 22,
     "metadata": {},
     "output_type": "execute_result"
    }
   ],
   "source": [
    "np.empty((4,5))"
   ]
  },
  {
   "cell_type": "code",
   "execution_count": 28,
   "id": "7f02b9b0",
   "metadata": {},
   "outputs": [
    {
     "data": {
      "text/plain": [
       "array([10. , 10.5, 11. , 11.5, 12. , 12.5, 13. , 13.5, 14. , 14.5, 15. ,\n",
       "       15.5, 16. , 16.5, 17. , 17.5, 18. , 18.5, 19. , 19.5, 20. , 20.5,\n",
       "       21. , 21.5, 22. , 22.5, 23. , 23.5, 24. , 24.5, 25. , 25.5, 26. ,\n",
       "       26.5, 27. , 27.5, 28. , 28.5, 29. , 29.5, 30. , 30.5, 31. , 31.5,\n",
       "       32. , 32.5, 33. , 33.5, 34. , 34.5, 35. , 35.5, 36. , 36.5, 37. ,\n",
       "       37.5, 38. , 38.5, 39. , 39.5, 40. , 40.5, 41. , 41.5, 42. , 42.5,\n",
       "       43. , 43.5, 44. , 44.5, 45. , 45.5, 46. , 46.5, 47. , 47.5, 48. ,\n",
       "       48.5, 49. , 49.5])"
      ]
     },
     "execution_count": 28,
     "metadata": {},
     "output_type": "execute_result"
    }
   ],
   "source": [
    "np.arange(10,50,0.5)"
   ]
  },
  {
   "cell_type": "code",
   "execution_count": 27,
   "id": "5639bf51",
   "metadata": {},
   "outputs": [
    {
     "name": "stdout",
     "output_type": "stream",
     "text": [
      "[ 0.          0.22727273  0.45454545  0.68181818  0.90909091  1.13636364\n",
      "  1.36363636  1.59090909  1.81818182  2.04545455  2.27272727  2.5\n",
      "  2.72727273  2.95454545  3.18181818  3.40909091  3.63636364  3.86363636\n",
      "  4.09090909  4.31818182  4.54545455  4.77272727  5.          5.22727273\n",
      "  5.45454545  5.68181818  5.90909091  6.13636364  6.36363636  6.59090909\n",
      "  6.81818182  7.04545455  7.27272727  7.5         7.72727273  7.95454545\n",
      "  8.18181818  8.40909091  8.63636364  8.86363636  9.09090909  9.31818182\n",
      "  9.54545455  9.77272727 10.        ]\n"
     ]
    }
   ],
   "source": [
    "a=np.linspace(0,10,45)\n",
    "print(a)"
   ]
  },
  {
   "cell_type": "code",
   "execution_count": 29,
   "id": "17f7d558",
   "metadata": {},
   "outputs": [
    {
     "name": "stdout",
     "output_type": "stream",
     "text": [
      "[5 7 9]\n",
      "[-3 -3 -3]\n",
      "[  1  32 243]\n"
     ]
    }
   ],
   "source": [
    "a=np.array([1,2,3])\n",
    "b=np.array([4,5,6])\n",
    "print(a+b)\n",
    "print(a-b)\n",
    "print(a**5)"
   ]
  },
  {
   "cell_type": "code",
   "execution_count": 30,
   "id": "49ccbb13",
   "metadata": {},
   "outputs": [
    {
     "name": "stdout",
     "output_type": "stream",
     "text": [
      "[1, 2, 3, 4]\n",
      "[5 6 7 8]\n"
     ]
    }
   ],
   "source": [
    "liste=[1,2,3,4]\n",
    "array=np.array([5,6,7,8])\n",
    "print(liste)\n",
    "print(array)"
   ]
  },
  {
   "cell_type": "code",
   "execution_count": 31,
   "id": "359cfdff",
   "metadata": {},
   "outputs": [],
   "source": [
    "a=np.array([81,2,3])"
   ]
  },
  {
   "cell_type": "code",
   "execution_count": 32,
   "id": "851c17d6",
   "metadata": {},
   "outputs": [],
   "source": [
    "b=a\n",
    "c=a"
   ]
  },
  {
   "cell_type": "code",
   "execution_count": 36,
   "id": "a7a2ea37",
   "metadata": {},
   "outputs": [
    {
     "name": "stdout",
     "output_type": "stream",
     "text": [
      "[5 2 3] [5 2 3] [5 2 3]\n"
     ]
    }
   ],
   "source": [
    "b[0]=5\n",
    "print(a,b,c)"
   ]
  },
  {
   "cell_type": "code",
   "execution_count": 37,
   "id": "86dcb738",
   "metadata": {},
   "outputs": [],
   "source": [
    "a[0]=5"
   ]
  },
  {
   "cell_type": "code",
   "execution_count": 38,
   "id": "b3366352",
   "metadata": {},
   "outputs": [
    {
     "name": "stdout",
     "output_type": "stream",
     "text": [
      "[5 2 3]\n"
     ]
    }
   ],
   "source": [
    "d=a.copy()\n",
    "print(d)"
   ]
  },
  {
   "cell_type": "code",
   "execution_count": 39,
   "id": "997e9d13",
   "metadata": {},
   "outputs": [
    {
     "data": {
      "text/plain": [
       "array([5, 2, 3])"
      ]
     },
     "execution_count": 39,
     "metadata": {},
     "output_type": "execute_result"
    }
   ],
   "source": [
    "d"
   ]
  },
  {
   "cell_type": "code",
   "execution_count": 40,
   "id": "b288bdb5",
   "metadata": {},
   "outputs": [
    {
     "name": "stdout",
     "output_type": "stream",
     "text": [
      "[1 2 3 4 5 6 7]\n"
     ]
    }
   ],
   "source": [
    "a=np.array([1,2,3,4,5,6,7])\n",
    "print(a)"
   ]
  },
  {
   "cell_type": "code",
   "execution_count": 41,
   "id": "c8c197d5",
   "metadata": {},
   "outputs": [
    {
     "data": {
      "text/plain": [
       "1"
      ]
     },
     "execution_count": 41,
     "metadata": {},
     "output_type": "execute_result"
    }
   ],
   "source": [
    "a[0]"
   ]
  },
  {
   "cell_type": "code",
   "execution_count": 44,
   "id": "ffadd53e",
   "metadata": {},
   "outputs": [
    {
     "data": {
      "text/plain": [
       "array([1, 2, 3, 4])"
      ]
     },
     "execution_count": 44,
     "metadata": {},
     "output_type": "execute_result"
    }
   ],
   "source": [
    "a[0:4]#(başlangıçdahil,bitişdahildeil)"
   ]
  },
  {
   "cell_type": "code",
   "execution_count": 50,
   "id": "8fcf33e0",
   "metadata": {},
   "outputs": [
    {
     "data": {
      "text/plain": [
       "array([7, 6, 5, 4, 3, 2, 1])"
      ]
     },
     "execution_count": 50,
     "metadata": {},
     "output_type": "execute_result"
    }
   ],
   "source": [
    "a[::-1]#yönü ve sıklığı"
   ]
  },
  {
   "cell_type": "code",
   "execution_count": 49,
   "id": "8477c3ea",
   "metadata": {},
   "outputs": [
    {
     "data": {
      "text/plain": [
       "array([7, 5, 3, 1])"
      ]
     },
     "execution_count": 49,
     "metadata": {},
     "output_type": "execute_result"
    }
   ],
   "source": [
    "a[::-2]"
   ]
  },
  {
   "cell_type": "code",
   "execution_count": 51,
   "id": "3e70a718",
   "metadata": {},
   "outputs": [
    {
     "data": {
      "text/plain": [
       "array([1, 4, 7])"
      ]
     },
     "execution_count": 51,
     "metadata": {},
     "output_type": "execute_result"
    }
   ],
   "source": [
    "a[::3]"
   ]
  },
  {
   "cell_type": "code",
   "execution_count": 72,
   "id": "52ee38a5",
   "metadata": {},
   "outputs": [],
   "source": [
    "b=np.array([[1,2,3,4,5],[6,7,8,9,10]])"
   ]
  },
  {
   "cell_type": "code",
   "execution_count": 55,
   "id": "58362b44",
   "metadata": {},
   "outputs": [
    {
     "name": "stdout",
     "output_type": "stream",
     "text": [
      "7\n"
     ]
    }
   ],
   "source": [
    "print(b[1,1])"
   ]
  },
  {
   "cell_type": "code",
   "execution_count": 56,
   "id": "dac94bba",
   "metadata": {},
   "outputs": [
    {
     "name": "stdout",
     "output_type": "stream",
     "text": [
      "[2 7]\n"
     ]
    }
   ],
   "source": [
    "print(b[:,1])"
   ]
  },
  {
   "cell_type": "code",
   "execution_count": 57,
   "id": "8997a7e3",
   "metadata": {},
   "outputs": [
    {
     "data": {
      "text/plain": [
       "array([[ 6,  7,  8,  9, 10]])"
      ]
     },
     "execution_count": 57,
     "metadata": {},
     "output_type": "execute_result"
    }
   ],
   "source": [
    "b[1:]"
   ]
  },
  {
   "cell_type": "code",
   "execution_count": 58,
   "id": "dd5be086",
   "metadata": {},
   "outputs": [
    {
     "data": {
      "text/plain": [
       "array([7, 8, 9])"
      ]
     },
     "execution_count": 58,
     "metadata": {},
     "output_type": "execute_result"
    }
   ],
   "source": [
    "b[1,1:4]"
   ]
  },
  {
   "cell_type": "code",
   "execution_count": 59,
   "id": "401a34bf",
   "metadata": {},
   "outputs": [
    {
     "data": {
      "text/plain": [
       "array([ 6,  7,  8,  9, 10])"
      ]
     },
     "execution_count": 59,
     "metadata": {},
     "output_type": "execute_result"
    }
   ],
   "source": [
    "b[-1,:]"
   ]
  },
  {
   "cell_type": "code",
   "execution_count": 60,
   "id": "1aeaf560",
   "metadata": {},
   "outputs": [
    {
     "data": {
      "text/plain": [
       "array([ 5, 10])"
      ]
     },
     "execution_count": 60,
     "metadata": {},
     "output_type": "execute_result"
    }
   ],
   "source": [
    "b[:,-1]"
   ]
  },
  {
   "cell_type": "code",
   "execution_count": 68,
   "id": "96460cea",
   "metadata": {},
   "outputs": [],
   "source": [
    "b=b.ravel()"
   ]
  },
  {
   "cell_type": "code",
   "execution_count": 69,
   "id": "1b87cd51",
   "metadata": {},
   "outputs": [
    {
     "name": "stdout",
     "output_type": "stream",
     "text": [
      "[ 1  2  3  4  5  6  7  8  9 10]\n"
     ]
    }
   ],
   "source": [
    "print(b)"
   ]
  },
  {
   "cell_type": "code",
   "execution_count": 70,
   "id": "6f44b069",
   "metadata": {},
   "outputs": [
    {
     "data": {
      "text/plain": [
       "array([ 1,  2,  3,  4,  5,  6,  7,  8,  9, 10])"
      ]
     },
     "execution_count": 70,
     "metadata": {},
     "output_type": "execute_result"
    }
   ],
   "source": [
    "b.T"
   ]
  },
  {
   "cell_type": "code",
   "execution_count": 73,
   "id": "0612065e",
   "metadata": {},
   "outputs": [
    {
     "data": {
      "text/plain": [
       "array([[ 1,  6],\n",
       "       [ 2,  7],\n",
       "       [ 3,  8],\n",
       "       [ 4,  9],\n",
       "       [ 5, 10]])"
      ]
     },
     "execution_count": 73,
     "metadata": {},
     "output_type": "execute_result"
    }
   ],
   "source": [
    "b.T"
   ]
  },
  {
   "cell_type": "code",
   "execution_count": null,
   "id": "e0f3481c",
   "metadata": {},
   "outputs": [],
   "source": []
  }
 ],
 "metadata": {
  "kernelspec": {
   "display_name": "Python 3 (ipykernel)",
   "language": "python",
   "name": "python3"
  },
  "language_info": {
   "codemirror_mode": {
    "name": "ipython",
    "version": 3
   },
   "file_extension": ".py",
   "mimetype": "text/x-python",
   "name": "python",
   "nbconvert_exporter": "python",
   "pygments_lexer": "ipython3",
   "version": "3.9.13"
  }
 },
 "nbformat": 4,
 "nbformat_minor": 5
}
